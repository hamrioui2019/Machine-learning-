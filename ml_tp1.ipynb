{
  "nbformat": 4,
  "nbformat_minor": 0,
  "metadata": {
    "colab": {
      "name": "ml-tp1.ipynb",
      "provenance": [],
      "collapsed_sections": [
        "0OS8yZpIfNb8",
        "rdJIEwK7jtK8"
      ],
      "include_colab_link": true
    },
    "kernelspec": {
      "name": "python3",
      "display_name": "Python 3"
    }
  },
  "cells": [
    {
      "cell_type": "markdown",
      "metadata": {
        "id": "view-in-github",
        "colab_type": "text"
      },
      "source": [
        "<a href=\"https://colab.research.google.com/github/hamrioui2019/Machine-learning-/blob/master/ml_tp1.ipynb\" target=\"_parent\"><img src=\"https://colab.research.google.com/assets/colab-badge.svg\" alt=\"Open In Colab\"/></a>"
      ]
    },
    {
      "cell_type": "markdown",
      "metadata": {
        "id": "0OS8yZpIfNb8"
      },
      "source": [
        "# Introduction au Machine Learning\n",
        "## Université Paris Dauphine\n",
        "## M1 MIAGE\n",
        "\n",
        "\n"
      ]
    },
    {
      "cell_type": "markdown",
      "metadata": {
        "id": "7Kf0DxaHf5H5"
      },
      "source": [
        "# TP 1 - Python - numpy - matplotlib"
      ]
    },
    {
      "cell_type": "markdown",
      "metadata": {
        "id": "ENrVh6x5gM6y"
      },
      "source": [
        "On va utiliser google colab (google colaboratory) pour réaliser tous les TPs de cette UE. Le but est d'éviter des problèmes de configuration et d'installation sur vos machines et de travailler plus rapidement.  Ce n'est pas votre machine locale qui va exécuter le code, mais des serveurs de google. Pour une utilisation sans calculs intensifs, l'utilisation de colab pourra être plus lente le temps que les données transitent sur le réseau. Mais pour des calculs plus intensifs, cela pourrait être plus rapide.\n",
        "\n",
        "Le cours utilisera le langage `Python`, il permet de programmer rapidement, et possède une grosse commauté qui a developpé beaucoup d'outils libres pour le machine learning.\n",
        "Ce premier TP est une séance pour utiliser python et des bibliothèques utiles, notamment une bibliothèque pour pouvoir faire des calculs avec des matrices et une bibliothèque pour faire générer des graphiques."
      ]
    },
    {
      "cell_type": "code",
      "metadata": {
        "id": "Lc9MeH43lNua"
      },
      "source": [
        ""
      ],
      "execution_count": null,
      "outputs": []
    },
    {
      "cell_type": "markdown",
      "metadata": {
        "id": "PgfNcqfFh_nd"
      },
      "source": [
        "## Python en très bref"
      ]
    },
    {
      "cell_type": "markdown",
      "metadata": {
        "id": "rdJIEwK7jtK8"
      },
      "source": [
        "### variables\n",
        "Contrairement au langages C, C++, Java, il n'y a pas besoin de déclarer des variables avant de les utiliser. On peut même ré-utiliser une variable avec un autre type! On vous conseille quand même d'être discpliné avec votre emploi des variables!"
      ]
    },
    {
      "cell_type": "markdown",
      "metadata": {
        "id": "DNkmdupgiR8H"
      },
      "source": [
        "### bloc de code\n",
        "Contrairement au langages `C`, `C++` et `Java`, il n'y a pas d'accolade ouvrante ou fermante en python pour les blocs `if`, `while`, etc... En `python`, le symbole `:` signale qu'on rentre dans un nouveau bloc d'instruction. Ce bloc doit être indenté par une tabulation ou par 4 espaces."
      ]
    },
    {
      "cell_type": "code",
      "metadata": {
        "id": "2aT7zMiifSHS",
        "outputId": "31ae6425-babe-4855-9b9d-9c45a63858a6",
        "colab": {
          "base_uri": "https://localhost:8080/"
        }
      },
      "source": [
        "# Ces trois codes font exactement la meme chose\n",
        "\n",
        "print('\\n Premier code')\n",
        "\n",
        "x = 0\n",
        "while x < 4:\n",
        "    print ('iteration ',x)\n",
        "    x += 1\n",
        "\n",
        "\n",
        "print('\\n Deuxieme code')\n",
        "\n",
        "for x in range(4):\n",
        "    print ('iteration ',x)\n",
        "\n",
        "\n",
        "print('\\n Troisieme code')\n",
        "\n",
        "def foo(x):\n",
        "    while True:\n",
        "        if x >= 4:\n",
        "            break\n",
        "        else:\n",
        "            print ('iteration ',x)\n",
        "            x = x + 1\n",
        "foo(0)"
      ],
      "execution_count": null,
      "outputs": [
        {
          "output_type": "stream",
          "text": [
            "\n",
            " Premier code\n",
            "iteration  0\n",
            "iteration  1\n",
            "iteration  2\n",
            "iteration  3\n",
            "\n",
            " Deuxieme code\n",
            "iteration  0\n",
            "iteration  1\n",
            "iteration  2\n",
            "iteration  3\n",
            "\n",
            " Troisieme code\n",
            "iteration  0\n",
            "iteration  1\n",
            "iteration  2\n",
            "iteration  3\n"
          ],
          "name": "stdout"
        }
      ]
    },
    {
      "cell_type": "markdown",
      "metadata": {
        "id": "msOjHWl2qf59"
      },
      "source": [
        "On peut définir une fonction (comme la fonction `foo` ci-dessus) à l'aide du mot clé `def`.\n",
        "\n",
        "Dans l'exemple ci-dessous, on calcule la norme du vecteur (x,y). ![norm](http://www.lamsade.dauphine.fr/~airiau/Teaching/M1-ML/fig/norm.png)\n",
        "\n"
      ]
    },
    {
      "cell_type": "markdown",
      "metadata": {
        "id": "OFXX1wuwfbsJ"
      },
      "source": [
        ""
      ]
    },
    {
      "cell_type": "markdown",
      "metadata": {
        "id": "pIOaMojidjzn"
      },
      "source": [
        ""
      ]
    },
    {
      "cell_type": "code",
      "metadata": {
        "id": "x5Jot9avmjXT",
        "outputId": "6e34b7bc-f2cf-4ec7-cbfa-f9a61b0e608d",
        "colab": {
          "base_uri": "https://localhost:8080/"
        }
      },
      "source": [
        "import math as m\n",
        "def normeVec(x,y):\n",
        "    return m.sqrt(x*x+y*y)\n",
        "\n",
        "print ('norme du vecteur (10,20) = ',normeVec(10,20))"
      ],
      "execution_count": null,
      "outputs": [
        {
          "output_type": "stream",
          "text": [
            "norme du vecteur (10,20) =  22.360679774997898\n"
          ],
          "name": "stdout"
        }
      ]
    },
    {
      "cell_type": "markdown",
      "metadata": {
        "id": "sVeMJZnLio-D"
      },
      "source": [
        "#### Exercice\n",
        "Ecrire une fonction qui retourne la somme des entiers entre 1 et n."
      ]
    },
    {
      "cell_type": "code",
      "metadata": {
        "id": "nW5VSJQ7i5Vv",
        "outputId": "d505d40b-0b44-4cc9-fd7c-3bc298753714",
        "colab": {
          "base_uri": "https://localhost:8080/",
          "height": 34
        }
      },
      "source": [
        "def som(x,y):\n",
        "  s=0\n",
        "  for i in range(y+1):\n",
        "    s=s+i\n",
        "  return s\n",
        "print(\"la somme de 1 à N qui est 10:\", som(1,3))"
      ],
      "execution_count": null,
      "outputs": [
        {
          "output_type": "stream",
          "text": [
            "la somme de 1 à N qui est 10: 6\n"
          ],
          "name": "stdout"
        }
      ]
    },
    {
      "cell_type": "markdown",
      "metadata": {
        "id": "v_W91q3ji5u6"
      },
      "source": [
        "### Listes\n",
        "Les listes en `python` sont  délimitées par des crochets `[]`. On accède au ième élément de la liste avec le nom de la liste et l'index entre crochets. Evidemment, on utilise un langage d'informaticien, donc le premier élément est à l'index 0.\n",
        "Dans l'exemple ci-dessous, on concatène deux listes avec l'opérateur `+`.\n",
        "Il est aussi facile de retourner une liste de choses comme résultat d'une fonction.\n",
        "\n"
      ]
    },
    {
      "cell_type": "code",
      "metadata": {
        "id": "XolbAI_8kJ8x",
        "outputId": "56714ddb-0071-44ef-8506-97a138b10b14",
        "colab": {
          "base_uri": "https://localhost:8080/",
          "height": 51
        }
      },
      "source": [
        "L = ['A','B','C']\n",
        "N = [10,15,20]\n",
        "print(L+N)\n",
        "print(L[0],\";\",N[1])"
      ],
      "execution_count": null,
      "outputs": [
        {
          "output_type": "stream",
          "text": [
            "['A', 'B', 'C', 10, 15, 20]\n",
            "A ; 15\n"
          ],
          "name": "stdout"
        }
      ]
    },
    {
      "cell_type": "markdown",
      "metadata": {
        "id": "bjZHJBvYYfQj"
      },
      "source": [
        ""
      ]
    },
    {
      "cell_type": "markdown",
      "metadata": {
        "id": "jwjfB3sbXfGy"
      },
      "source": [
        "# Exercice\n",
        "Ecrivez une fonction moyenne qui prend en paramètre une liste de nombre et retourne la moyenne de cette liste.\n",
        "\n"
      ]
    },
    {
      "cell_type": "code",
      "metadata": {
        "id": "MNKjXJlXhNAp",
        "outputId": "23c93695-3a48-4ce0-bc06-08887761c27a",
        "colab": {
          "base_uri": "https://localhost:8080/"
        }
      },
      "source": [
        "def somme(liste):\n",
        "    _somme = 0\n",
        "    for i in liste:\n",
        "        _somme = _somme + i\n",
        "    return _somme\n",
        "def moyenne(L):\n",
        "  return somme(L)/len(L)\n",
        "T=[1,2,3,4]\n",
        "print(\"la moyenne de la liste est:\", moyenne(T))\n"
      ],
      "execution_count": null,
      "outputs": [
        {
          "output_type": "stream",
          "text": [
            "la moyenne de la liste est: 2.5\n"
          ],
          "name": "stdout"
        }
      ]
    },
    {
      "cell_type": "markdown",
      "metadata": {
        "id": "2WpCIJSvlS1s"
      },
      "source": [
        "### Modules externes\n",
        "Un grand nombre de modules ont été implémentés par la communauté. De plus, sous colab, la plupart de ces modules sont installés et nous permettent donc d'avoir la même installation pour tous.\n",
        "\n",
        "On charge un module externe à l'aide de la commande `import` et on peut donner un nom raccourci. Dans l'exemple suivant, on charge le module pour générer des nombres aléatoires et le module de math."
      ]
    },
    {
      "cell_type": "code",
      "metadata": {
        "id": "FRLwr2eVmDy8"
      },
      "source": [
        "import random\n",
        "R = random.choice(['A','B','C'])\n",
        "print('Parmi A, B ou C, je choisis aleatoirement ',R)\n",
        "\n",
        "import math as m\n",
        "print ('racine de deux egal ',m.sqrt(2))\n",
        "print ('cosinus de pi egal',m.cos( m.pi ))"
      ],
      "execution_count": null,
      "outputs": []
    },
    {
      "cell_type": "markdown",
      "metadata": {
        "id": "S_Ij3AGqr4GG"
      },
      "source": [
        "### numpy\n",
        "Un outil précieux est le module `numpy` qui permet de réaliser des calculs mathématiques avec des matrices, ce qui va nous être très utile! \n",
        "Pour ceux qui connaissent octave/matlab, c'est très similaire.\n",
        "On peut rentrer des matrices ligne par ligne. Certaines matrices simples (matrice remplies de zéros, de uns peuvent être générées à l'aide de fonctions dédiées).\n",
        "\n",
        "Certaines données seront importées sous forme de matrices `numpy`. Par exemple, chaque ligne représentera une observation, et chaque colonne représentera la valeur d'un attribut. Dans ce cas, on aura une (potentiellement grosse) matrice à deux dimensions.\n"
      ]
    },
    {
      "cell_type": "code",
      "metadata": {
        "id": "mL46T7NwruKv",
        "outputId": "5f3df675-4719-4981-d1c7-8d54c7583533",
        "colab": {
          "base_uri": "https://localhost:8080/",
          "height": 289
        }
      },
      "source": [
        "# Le module qui permet de manipuler des matrices s'appelle numpy, mais on abbregera par np\n",
        "\n",
        "import numpy as np\n",
        "\n",
        "x = np.array( [ [1,2,3] , [10,20,30] ] )\n",
        "print (' voila la matrice x :')\n",
        "print (x)\n",
        "\n",
        "w = np.zeros( (3,4) )\n",
        "print ('\\n voila la matrice w :')\n",
        "print (w)\n",
        "\n",
        "v = np.ones( (1,10) )\n",
        "print ('\\n voila la matrice v :')\n",
        "print (v)\n",
        "\n",
        "identite = np.eye( 3 )\n",
        "print ('\\n voila la matrice identite :')\n",
        "print (identite)"
      ],
      "execution_count": null,
      "outputs": [
        {
          "output_type": "stream",
          "text": [
            " voila la matrice x :\n",
            "[[ 1  2  3]\n",
            " [10 20 30]]\n",
            "\n",
            " voila la matrice w :\n",
            "[[0. 0. 0. 0.]\n",
            " [0. 0. 0. 0.]\n",
            " [0. 0. 0. 0.]]\n",
            "\n",
            " voila la matrice v :\n",
            "[[1. 1. 1. 1. 1. 1. 1. 1. 1. 1.]]\n",
            "\n",
            " voila la matrice identite :\n",
            "[[1. 0. 0.]\n",
            " [0. 1. 0.]\n",
            " [0. 0. 1.]]\n"
          ],
          "name": "stdout"
        }
      ]
    },
    {
      "cell_type": "markdown",
      "metadata": {
        "id": "igSdCBznsv0M"
      },
      "source": [
        "On peut obtenir la dimension d'une matrice avec `shape`. On peut aussi accéder à cette dimension avec la fonction `len`.\n",
        "On peut transposer une matrice (les colonnes deviennent lignes et les lignes colonnes) avec l'opérateur `.T`"
      ]
    },
    {
      "cell_type": "code",
      "metadata": {
        "id": "ILS4M3UmtGCA",
        "outputId": "ae7aad87-fdf3-4ca9-c77f-09256d5cfd6d",
        "colab": {
          "base_uri": "https://localhost:8080/",
          "height": 170
        }
      },
      "source": [
        "#dimension de la matrice avec SHAPE\n",
        "print (' dimension de la matrice avant transposition ',x.shape)\n",
        "\n",
        "#obtenir la transposée d'une matrice à l'aide de T\n",
        "print ('\\n voici la matrice transposee:')\n",
        "x = x.T\n",
        "print (x)\n",
        "\n",
        "print ('\\n et ses nouvelles dimensions: ',x.shape)\n",
        "print (' elle a donc ',x.shape[0],' lignes et ',x.shape[1],' colonnes')"
      ],
      "execution_count": null,
      "outputs": [
        {
          "output_type": "stream",
          "text": [
            " dimension de la matrice avant transposition  (2, 3)\n",
            "\n",
            " voici la matrice transposee:\n",
            "[[ 1 10]\n",
            " [ 2 20]\n",
            " [ 3 30]]\n",
            "\n",
            " et ses nouvelles dimensions:  (3, 2)\n",
            " elle a donc  3  lignes et  2  colonnes\n"
          ],
          "name": "stdout"
        }
      ]
    },
    {
      "cell_type": "markdown",
      "metadata": {
        "id": "PUJJR4QdtJ7f"
      },
      "source": [
        "On peut extraire des morceaux d'une matrice en spécifiant les index de début et de fin séparés du symbole `:`\n"
      ]
    },
    {
      "cell_type": "code",
      "metadata": {
        "id": "Js4n_txWtI7f",
        "outputId": "5dba7395-d358-460d-c001-76125277f1ae",
        "colab": {
          "base_uri": "https://localhost:8080/",
          "height": 204
        }
      },
      "source": [
        "print (' extraction des lignes de 0 a 1 et colonnes de 0 a 1')\n",
        "print (x[0:2,0:2])\n",
        "\n",
        "print ('\\n extraction de toutes les lignes de x, mais juste la seconde colonne')\n",
        "z = x[:,1:2]\n",
        "print (z)\n",
        "\n",
        "print ('\\n extraction de la premier ligne de x avec toutes les colonnes')\n",
        "z2 = x[0,:]\n",
        "print (z2)"
      ],
      "execution_count": null,
      "outputs": [
        {
          "output_type": "stream",
          "text": [
            " extraction des lignes de 0 a 1 et colonnes de 0 a 1\n",
            "[[ 1 10]\n",
            " [ 2 20]]\n",
            "\n",
            " extraction de toutes les lignes de x, mais juste la seconde colonne\n",
            "[[10]\n",
            " [20]\n",
            " [30]]\n",
            "\n",
            " extraction de la premier ligne de x avec toutes les colonnes\n",
            "[ 1 10]\n"
          ],
          "name": "stdout"
        }
      ]
    },
    {
      "cell_type": "markdown",
      "metadata": {
        "id": "_RsfePWruhso"
      },
      "source": [
        "On peut bien sûr faire des boucles pour accéder aux éléments et faire des calculs. \n",
        "Evidemment, on pourra aussi essayer de reconnaître des opérations sur des matrices pour écrire l'expression et laisser `numpy` trouver le meilleur moyen d'exécuter le calcul (vectorisation)."
      ]
    },
    {
      "cell_type": "code",
      "metadata": {
        "id": "ep7JF9tcu95u",
        "outputId": "5e6655ba-a79f-4a68-d597-f87f0413d353",
        "colab": {
          "base_uri": "https://localhost:8080/",
          "height": 272
        }
      },
      "source": [
        "print('parcourir un tableau numpy en deux dimensions, avec double boucle for')\n",
        "for i in range(len(x)):\n",
        "    for j in range(len(x[0])):\n",
        "        e = x[i,j]\n",
        "        print(\"l'element a la ligne\",i,\"et la colonne\",j,\"est\",e)\n",
        "\n",
        "print('\\nparcourir un tableau numpy en deux dimensions, avec une seule boucle for')\n",
        "for (i,j),e in np.ndenumerate(x):\n",
        "        print(\"l'element a la ligne\",i,\"et la colonne\",j,\"est\",e)"
      ],
      "execution_count": null,
      "outputs": [
        {
          "output_type": "stream",
          "text": [
            "parcourir un tableau numpy en deux dimensions, avec double boucle for\n",
            "l'element a la ligne 0 et la colonne 0 est 1\n",
            "l'element a la ligne 0 et la colonne 1 est 10\n",
            "l'element a la ligne 1 et la colonne 0 est 2\n",
            "l'element a la ligne 1 et la colonne 1 est 20\n",
            "l'element a la ligne 2 et la colonne 0 est 3\n",
            "l'element a la ligne 2 et la colonne 1 est 30\n",
            "\n",
            "parcourir un tableau numpy en deux dimensions, avec une seule boucle for\n",
            "l'element a la ligne 0 et la colonne 0 est 1\n",
            "l'element a la ligne 0 et la colonne 1 est 10\n",
            "l'element a la ligne 1 et la colonne 0 est 2\n",
            "l'element a la ligne 1 et la colonne 1 est 20\n",
            "l'element a la ligne 2 et la colonne 0 est 3\n",
            "l'element a la ligne 2 et la colonne 1 est 30\n"
          ],
          "name": "stdout"
        }
      ]
    },
    {
      "cell_type": "markdown",
      "metadata": {
        "id": "rdX2xomRvBzs"
      },
      "source": [
        "#### Exercice\n",
        "* Ecrire une fonction qui cree une matrice 5x5 initialement remplie de zeros.\n",
        "* Puis, pour i=1..5 et j=1..5, placer dans la case i,j de cette matrice la valeur min(i,j)\n"
      ]
    },
    {
      "cell_type": "code",
      "metadata": {
        "id": "Od7FGPiHT0qM",
        "outputId": "68edaf1a-dedd-4f1e-df66-89e63b127da5",
        "colab": {
          "base_uri": "https://localhost:8080/"
        }
      },
      "source": [
        "import numpy as np\n",
        "#matrice 5x5 remplie de 0 -> avec zeros\n",
        "m = np.zeros( (5,5) )\n",
        "print(\"voici ma matrice de départ: \\n\", m)\n",
        "for i in range(5):\n",
        "  for j in range(5):\n",
        "    m[i,j]=min(i,j)\n",
        "\n",
        "print(\"ma matrice après changement : \\n\", m)\n",
        "\n"
      ],
      "execution_count": null,
      "outputs": [
        {
          "output_type": "stream",
          "text": [
            "voici ma matrice de départ: \n",
            " [[0. 0. 0. 0. 0.]\n",
            " [0. 0. 0. 0. 0.]\n",
            " [0. 0. 0. 0. 0.]\n",
            " [0. 0. 0. 0. 0.]\n",
            " [0. 0. 0. 0. 0.]]\n",
            "ma matrice après changement : \n",
            " [[0. 0. 0. 0. 0.]\n",
            " [0. 1. 1. 1. 1.]\n",
            " [0. 1. 2. 2. 2.]\n",
            " [0. 1. 2. 3. 3.]\n",
            " [0. 1. 2. 3. 4.]]\n"
          ],
          "name": "stdout"
        }
      ]
    },
    {
      "cell_type": "markdown",
      "metadata": {
        "id": "zp1smWA3vQhP"
      },
      "source": [
        "Contrairement à C, C++, java, fortran, etc... `numpy` peut donc exécuter des opérations sur les matrices. Par exemple:\n",
        "* multiplier un matrice par un vecteur\n",
        "* multiplier deux matrices\n",
        "* calculer le produit scalaire entre deux vecteurs\n",
        "* calculer l'inverse d'une matrice: donc résoudre un système de $n$ équations à $n$ inconnues...\n",
        "• mais aussi calculer des statistiques comme des moyennes, etc...\n",
        " "
      ]
    },
    {
      "cell_type": "code",
      "metadata": {
        "id": "T5ssIVSav5mS",
        "outputId": "efe092fd-f27d-47f3-bb06-747ff1bf1218",
        "colab": {
          "base_uri": "https://localhost:8080/"
        }
      },
      "source": [
        "# multiplications et produits scalaires\n",
        "\n",
        "v = np.array( [ [10,20,30] ])\n",
        "\n",
        "print (' v est une matrice ligne ')\n",
        "print (v)\n",
        "\n",
        "print ('\\n sa transposee est une matrice colonne ')\n",
        "print (v.T)\n",
        "\n",
        "print (\"\\n le resultat de v * v.T est une matrice 1x1, et s'ecrit de deux facons equivalentes\")\n",
        "print (np.dot( v , v.T))\n",
        "\n",
        "#symbole de multiplication matricielle\n",
        "\n",
        "\n",
        "print (' ou en utilisant le symbole de multiplication matriciel \"@\"')\n",
        "print ( v @ v.T)\n",
        "\n",
        "print ('\\n on peut extraire le nombre en convertissant un reel')\n",
        "print (float( v @ v.T ))\n",
        "\n",
        "print ('\\n le resultat de v.T * v est une matrice 3x3')\n",
        "print ( v.T @ v)"
      ],
      "execution_count": null,
      "outputs": [
        {
          "output_type": "stream",
          "text": [
            " v est une matrice ligne \n",
            "[[10 20 30]]\n",
            "\n",
            " sa transposee est une matrice colonne \n",
            "[[10]\n",
            " [20]\n",
            " [30]]\n",
            "\n",
            " le resultat de v * v.T est une matrice 1x1, et s'ecrit de deux facons equivalentes\n",
            "[[1400]]\n",
            " ou en utilisant le symbole de multiplication matriciel \"@\"\n",
            "[[1400]]\n",
            "\n",
            " on peut extraire le nombre en convertissant un reel\n",
            "1400.0\n",
            "\n",
            " le resultat de v.T * v est une matrice 3x3\n",
            "[[100 200 300]\n",
            " [200 400 600]\n",
            " [300 600 900]]\n"
          ],
          "name": "stdout"
        }
      ]
    },
    {
      "cell_type": "code",
      "metadata": {
        "id": "eITVn-M6wBoH"
      },
      "source": [
        "#  on peut faire plein de choses sur des matrices\n",
        "\n",
        "print ('\\n on peut multiplier v par un nombre:')\n",
        "print (v*1000)\n",
        "\n",
        "print ('\\n appliquer une operation sur chaque element (elever au carre, calculer la racine carre, le log) de v')\n",
        "print (v**2)\n",
        "print (np.sqrt(v))\n",
        "print (np.log(v))\n",
        "\n",
        "print ('\\n ajouter v a v')\n",
        "print (v+v)\n",
        "\n",
        "print ('\\n contatener horizontalement et verticalement v a lui-meme')\n",
        "print (np.hstack( (v,v) ))\n",
        "print (np.vstack( (v,v) ))\n",
        "\n",
        "print ('\\n faire la somme en lignes de la matrice x:')\n",
        "print (x)\n",
        "print (' somme sur les ligne = ',np.sum(x,axis=0))\n",
        "print (' somme sur les colonne = \\n',np.sum(x,axis=1))\n",
        "\n",
        "print ('\\n generer des matrices aleatoires')\n",
        "al = np.random.uniform(size=(2,4))\n",
        "# Attention: np.random.uniform peut generer des tableaux 1D, 2D, 3D... mais pas de matrices.\n",
        "# Donc ici, np.random.uniform genere un tableau 2D qu'on converti explicitement en matrice avec np.matrix(...)\n",
        "print (al)"
      ],
      "execution_count": null,
      "outputs": []
    },
    {
      "cell_type": "markdown",
      "metadata": {
        "id": "vR_r_kZjwJc_"
      },
      "source": [
        "#### Exercice\n",
        "Reprenez la matrice de l'exercice precedent\n",
        "Rajoutez une colonne de 1 a cette matrice."
      ]
    },
    {
      "cell_type": "code",
      "metadata": {
        "id": "iQhk5DOzV3IW",
        "outputId": "e5a851fa-b55e-4686-99dd-7be8f9a3eb9e",
        "colab": {
          "base_uri": "https://localhost:8080/"
        }
      },
      "source": [
        "import numpy as np\n",
        "#matrice 5x5 remplie de 0 -> avec zeros\n",
        "m = np.zeros( (5,5) )\n",
        "print(\"voici ma matrice de départ: \\n\", m)\n",
        "for i in range(5):\n",
        "  for j in range(5):\n",
        "    m[i,j]=min(i,j)\n",
        "\n",
        "print(\"ma matrice après changement : \\n\", m)\n",
        "\n",
        "col=np.ones((5,1))\n",
        "addCol=np.hstack((m,col))\n",
        "print(\"je concatene horizontalement ma matrice m avec ma colonne col pour obtenir la nouvelle matrice:\\n\", addCol)\n",
        "\n",
        "s=np.shape(addCol)\n",
        "for i in range(0,s[1]):\n",
        "  moy=np.mean(addCol[:,i])\n",
        "  for j in range(0,s[0]):\n",
        "    addCol[j][i]=addCol[j][i]-moy\n",
        "print(\"Ma nouvelle matrice centrée\\n: \", addCol )"
      ],
      "execution_count": null,
      "outputs": [
        {
          "output_type": "stream",
          "text": [
            "voici ma matrice de départ: \n",
            " [[0. 0. 0. 0. 0.]\n",
            " [0. 0. 0. 0. 0.]\n",
            " [0. 0. 0. 0. 0.]\n",
            " [0. 0. 0. 0. 0.]\n",
            " [0. 0. 0. 0. 0.]]\n",
            "ma matrice après changement : \n",
            " [[0. 0. 0. 0. 0.]\n",
            " [0. 1. 1. 1. 1.]\n",
            " [0. 1. 2. 2. 2.]\n",
            " [0. 1. 2. 3. 3.]\n",
            " [0. 1. 2. 3. 4.]]\n",
            "je concatene horizontalement ma matrice m avec ma colonne col pour obtenir la nouvelle matrice:\n",
            " [[0. 0. 0. 0. 0. 1.]\n",
            " [0. 1. 1. 1. 1. 1.]\n",
            " [0. 1. 2. 2. 2. 1.]\n",
            " [0. 1. 2. 3. 3. 1.]\n",
            " [0. 1. 2. 3. 4. 1.]]\n",
            "Ma nouvelle matrice centrée\n",
            ":  [[ 0.  -0.8 -1.4 -1.8 -2.   0. ]\n",
            " [ 0.   0.2 -0.4 -0.8 -1.   0. ]\n",
            " [ 0.   0.2  0.6  0.2  0.   0. ]\n",
            " [ 0.   0.2  0.6  1.2  1.   0. ]\n",
            " [ 0.   0.2  0.6  1.2  2.   0. ]]\n"
          ],
          "name": "stdout"
        }
      ]
    },
    {
      "cell_type": "markdown",
      "metadata": {
        "id": "dUjqKnswwPm-"
      },
      "source": [
        "### Exercice\n",
        " Centrez cette matrice, c'est a dire soustrayez a chaque colonne la moyenne de cette colonne.\n",
        " Pour cela, il faudra entre autres utiliser la fonction np.mean\n",
        " pour acceder a l'aide de cette fonction, tapez help(np.mean) ou np.mean?"
      ]
    },
    {
      "cell_type": "markdown",
      "metadata": {
        "id": "AYlpHm-WiLdr"
      },
      "source": [
        "La commande `reshape` vous permet de ré-organiser un tableau tout en gardant toute l'information."
      ]
    },
    {
      "cell_type": "code",
      "metadata": {
        "id": "4s72ZANfibrC",
        "outputId": "98c992ec-718b-466f-ccd6-e1e66255ae53",
        "colab": {
          "base_uri": "https://localhost:8080/"
        }
      },
      "source": [
        "X= np.array([1,2,3,4,5,6])  # X est un tableau 1D\n",
        "print(X)\n",
        "X = X.reshape(1,6)           # X est maintenant un tableau 2D\n",
        "print(X)\n",
        "X = X.reshape(6,1)\n",
        "print(X)\n",
        "X = X.reshape(2,3)\n",
        "print(X)"
      ],
      "execution_count": null,
      "outputs": [
        {
          "output_type": "stream",
          "text": [
            "[1 2 3 4 5 6]\n",
            "[[1 2 3 4 5 6]]\n",
            "[[1]\n",
            " [2]\n",
            " [3]\n",
            " [4]\n",
            " [5]\n",
            " [6]]\n",
            "[[1 2 3]\n",
            " [4 5 6]]\n"
          ],
          "name": "stdout"
        }
      ]
    },
    {
      "cell_type": "markdown",
      "metadata": {
        "id": "DEm9e791idIN"
      },
      "source": [
        "On peut faire des opérations entre tableau ou sur chaque élément d'un tableau. Les exemples ci-dessous contiennent des idées qui vous seront utiles.\n"
      ]
    },
    {
      "cell_type": "code",
      "metadata": {
        "id": "Qrmh2iX8iuLF",
        "outputId": "e5aa6403-119d-45bb-ec6b-c66a871a55f1",
        "colab": {
          "base_uri": "https://localhost:8080/",
          "height": 85
        }
      },
      "source": [
        "#voici deux moyens de faire le même tableau à une dimension\n",
        "X = np.arange(25)\n",
        "Y = np.array(range(25))\n",
        "print(X)\n",
        "print(Y)"
      ],
      "execution_count": null,
      "outputs": [
        {
          "output_type": "stream",
          "text": [
            "[ 0  1  2  3  4  5  6  7  8  9 10 11 12 13 14 15 16 17 18 19 20 21 22 23\n",
            " 24]\n",
            "[ 0  1  2  3  4  5  6  7  8  9 10 11 12 13 14 15 16 17 18 19 20 21 22 23\n",
            " 24]\n"
          ],
          "name": "stdout"
        }
      ]
    },
    {
      "cell_type": "code",
      "metadata": {
        "id": "2Q-s-M_ljRlE",
        "outputId": "34d455c9-6f3e-4281-9a94-4a9cc6b2400e",
        "colab": {
          "base_uri": "https://localhost:8080/",
          "height": 68
        }
      },
      "source": [
        "Y = X > 10\n",
        "Y"
      ],
      "execution_count": null,
      "outputs": [
        {
          "output_type": "execute_result",
          "data": {
            "text/plain": [
              "array([False, False, False, False, False, False, False, False, False,\n",
              "       False, False,  True,  True,  True,  True,  True,  True,  True,\n",
              "        True,  True,  True,  True,  True,  True,  True])"
            ]
          },
          "metadata": {
            "tags": []
          },
          "execution_count": 7
        }
      ]
    },
    {
      "cell_type": "code",
      "metadata": {
        "id": "rd--djXrjBe8",
        "outputId": "640f3719-815c-427d-e48a-d70fa324583a",
        "colab": {
          "base_uri": "https://localhost:8080/",
          "height": 51
        }
      },
      "source": [
        "# on peut convertir le tableau de booleens en tableau d'entiers\n",
        "Z = Y.astype(int)\n",
        "Z"
      ],
      "execution_count": null,
      "outputs": [
        {
          "output_type": "execute_result",
          "data": {
            "text/plain": [
              "array([0, 0, 0, 0, 0, 0, 0, 0, 0, 0, 0, 1, 1, 1, 1, 1, 1, 1, 1, 1, 1, 1,\n",
              "       1, 1, 1])"
            ]
          },
          "metadata": {
            "tags": []
          },
          "execution_count": 8
        }
      ]
    },
    {
      "cell_type": "markdown",
      "metadata": {
        "id": "7jscJqY4jtvq"
      },
      "source": [
        "### Exercice \n",
        "\n",
        "Créez un matrice `X` de nombres réels aléatoires tirés uniformément entre 0 et 1,\n",
        " et créez une matrice `Y` ne contenant que des $-1$ et des $1$ de la facon suivante:\n",
        ">si `X[i,j] > 0.5` alors la case `Y[i,j]` devra prendre la valeur $1$, et $-1$ sinon.\n",
        "\n",
        "Bien sûr, n'utilisez pas de boucle for dans cet exercice"
      ]
    },
    {
      "cell_type": "code",
      "metadata": {
        "id": "lowcl0YOZZNo",
        "outputId": "e8ee7db6-b329-4036-8250-06d0cf09f549",
        "colab": {
          "base_uri": "https://localhost:8080/"
        }
      },
      "source": [
        "import numpy as np\n",
        "x=np.random.random_sample((5,5))\n",
        "#np.where retourne l elment choisi sous la condition x>0,5 sinon l'alternative ici qui est -1\n",
        "y=np.where(x>0.5,1,-1)\n",
        "print(y)"
      ],
      "execution_count": null,
      "outputs": [
        {
          "output_type": "stream",
          "text": [
            "[[-1 -1 -1  1  1]\n",
            " [ 1 -1 -1 -1 -1]\n",
            " [ 1 -1 -1  1  1]\n",
            " [ 1  1  1 -1 -1]\n",
            " [ 1 -1 -1 -1  1]]\n"
          ],
          "name": "stdout"
        }
      ]
    },
    {
      "cell_type": "markdown",
      "metadata": {
        "id": "hHFxirdkkWtH"
      },
      "source": [
        "# Générez et affichez des graphiques avec matplotlib\n"
      ]
    },
    {
      "cell_type": "markdown",
      "metadata": {
        "id": "tM_DgH3Nkfy2"
      },
      "source": [
        "Le module matplotlib est lui aussi semblable à matlab ou gnuplot. Il permet de tracer des courbes, afficher des données, etc...\n"
      ]
    },
    {
      "cell_type": "code",
      "metadata": {
        "id": "35BWyy0KpxnR"
      },
      "source": [
        "%matplotlib inline\n",
        "import matplotlib.pyplot as plt\n"
      ],
      "execution_count": null,
      "outputs": []
    },
    {
      "cell_type": "code",
      "metadata": {
        "id": "JvKrWyaEpznT",
        "outputId": "c8d31996-203a-40ac-fbba-680e9c7fb7a0",
        "colab": {
          "base_uri": "https://localhost:8080/",
          "height": 316
        }
      },
      "source": [
        "x = np.arange(0,10,1)\n",
        "t = np.arange(0,10,0.1)\n",
        "plt.plot(t, 100*np.sin(t))\n",
        "plt.plot(x, 10*x, 'r--', x, x**2, 'bs', x, x**3, 'g^')"
      ],
      "execution_count": null,
      "outputs": [
        {
          "output_type": "execute_result",
          "data": {
            "text/plain": [
              "[<matplotlib.lines.Line2D at 0x7f7e528bfcf8>,\n",
              " <matplotlib.lines.Line2D at 0x7f7e528bfeb8>,\n",
              " <matplotlib.lines.Line2D at 0x7f7e52880080>]"
            ]
          },
          "metadata": {
            "tags": []
          },
          "execution_count": 23
        },
        {
          "output_type": "display_data",
          "data": {
            "image/png": "[encoded data removed]",
            "text/plain": [
              "<Figure size 432x288 with 1 Axes>"
            ]
          },
          "metadata": {
            "tags": [],
            "needs_background": "light"
          }
        }
      ]
    },
    {
      "cell_type": "markdown",
      "metadata": {
        "id": "SPpZqSPjrsfX"
      },
      "source": [
        "On utilisera aussi pour afficher des points dont on connait les coordonnées avec la commande `scatter`."
      ]
    },
    {
      "cell_type": "code",
      "metadata": {
        "id": "z-8C81mAp8d8",
        "outputId": "5d3465c5-61ab-4644-8d22-c028f672c58f",
        "colab": {
          "base_uri": "https://localhost:8080/",
          "height": 282
        }
      },
      "source": [
        "# Afficher des points connaissant leurs coordonnes\n",
        "x = np.array([[10,20,15,33]])\n",
        "y = np.array([[1,2,3,6]])\n",
        "plt.scatter(x.T,y.T)\n",
        "# notez ici qu'on utilise la transposé pour passer d'un vecteur ligne à \n",
        "# un vecteur colonne, qui est le format attendu par plot\n",
        "plt.show()"
      ],
      "execution_count": null,
      "outputs": [
        {
          "output_type": "stream",
          "text": [
            "[[10 20 15 33]]\n"
          ],
          "name": "stdout"
        },
        {
          "output_type": "display_data",
          "data": {
            "image/png": "[encoded data removed]",
            "text/plain": [
              "<Figure size 432x288 with 1 Axes>"
            ]
          },
          "metadata": {
            "tags": [],
            "needs_background": "light"
          }
        }
      ]
    },
    {
      "cell_type": "markdown",
      "metadata": {
        "id": "CBBNwX-TwJ4G"
      },
      "source": [
        "#scikit-learn\n",
        "[Scikit-learn](https://https://scikit-learn.org/stable/) est un module dédié aux outils d'apprentissage automatique en `python`. Tous les algorithmes qu'on va étudier ont une implémentation dans scikit-learn. "
      ]
    },
    {
      "cell_type": "markdown",
      "metadata": {
        "id": "Jl8O37FjuNvQ"
      },
      "source": [
        "## La base de données Iris.\n",
        "[La base de données Iris](https://https://archive.ics.uci.edu/ml/datasets/iris) contient des données sur 150 fleurs d'iris. Pour chaque fleur, on a sa variété (trois possibilité), et la longueur et la largeur de son pétale et son sépale (la partie verte qui supporte les pétales d'une fleur). \n",
        "\n",
        "En soit, ce n'est pas très intéressant, mais ces données illustrent les cours de machine learning depuis des décénnies car c'est un domaine très simple pour les problèmes de classification. Pour cette raison, ces données sont accessibles depuis scikit-learn et sont souvent utilisées comme exemple.\n",
        "\n",
        "Les attributs sont les longueurs et largeur des pétales et sépales. Le problème de classification porte sur la variété de l'iris.\n",
        "Dans scikit-learn, la matrice $X$ contiendra la valeur des attributs, et le vecteur $Y$ représentera la variété de chaque fleur (trois classes représentées les entiers $0$, $1$ et $2$).\n",
        "\n"
      ]
    },
    {
      "cell_type": "code",
      "metadata": {
        "id": "-m9xvf1lsVo3",
        "outputId": "8d2ae3d1-9fa1-40bb-f92d-5846c13f11ac",
        "colab": {
          "base_uri": "https://localhost:8080/"
        }
      },
      "source": [
        "from sklearn.datasets import load_iris\n",
        "X , y = load_iris(return_X_y=True)\n",
        "\n",
        "print(X[:4],'\\n\\n',y[:4])"
      ],
      "execution_count": null,
      "outputs": [
        {
          "output_type": "stream",
          "text": [
            "[[5.1 3.5 1.4 0.2]\n",
            " [4.9 3.  1.4 0.2]\n",
            " [4.7 3.2 1.3 0.2]\n",
            " [4.6 3.1 1.5 0.2]] \n",
            "\n",
            " [0 0 0 0]\n"
          ],
          "name": "stdout"
        }
      ]
    },
    {
      "cell_type": "markdown",
      "metadata": {
        "id": "Si66sawhypeV"
      },
      "source": [
        "#### Exercice\n",
        "* Faites des graphe représentant toutes les fleurs avec la commande `scatter`:\n",
        ">* un premier graphique où vous représentez  la longueur du sépale (1ière colonne du jeu de données) en fonction du numéro de la fleur\n",
        ">* un second graphique où vous représentez la largeur du sépale en fonction du numéro de la fleur.\n",
        ">* un troisième graphique où vous représentez la longueur du sépale en fonction de sa largeur pour chacune des fleurs.\n",
        ">* Modifiez le graphique précédent en utilisant un symbole différent (couleur ou symbole) selon la classe de chaque fleur.  \n"
      ]
    },
    {
      "cell_type": "code",
      "metadata": {
        "id": "MWj4EbQdynLn",
        "outputId": "b64556e2-7247-4f5b-9090-358812e913a8",
        "colab": {
          "base_uri": "https://localhost:8080/",
          "height": 936
        }
      },
      "source": [
        "import seaborn as sbn\n",
        "\n",
        "#longueur en fonction du numero de la fleur\n",
        "plt.scatter(X[:,0],y)\n",
        "plt.show()\n",
        "\n",
        "#largeur en fonction du num de la fleur\n",
        "plt.scatter(X[:,1],y)\n",
        "plt.show()\n",
        "\n",
        "#longueur en fonction de la largeur \n",
        "sbn.relplot(X[:,0],X[:,1], y, palette=['r','b','g'])"
      ],
      "execution_count": null,
      "outputs": [
        {
          "output_type": "display_data",
          "data": {
            "image/png": "[encoded data removed]",
            "text/plain": [
              "<Figure size 432x288 with 1 Axes>"
            ]
          },
          "metadata": {
            "tags": [],
            "needs_background": "light"
          }
        },
        {
          "output_type": "display_data",
          "data": {
            "image/png": "[encoded data removed]",
            "text/plain": [
              "<Figure size 432x288 with 1 Axes>"
            ]
          },
          "metadata": {
            "tags": [],
            "needs_background": "light"
          }
        },
        {
          "output_type": "stream",
          "text": [
            "/usr/local/lib/python3.6/dist-packages/seaborn/_decorators.py:43: FutureWarning: Pass the following variables as keyword args: x, y, hue. From version 0.12, the only valid positional argument will be `data`, and passing other arguments without an explicit keyword will result in an error or misinterpretation.\n",
            "  FutureWarning\n"
          ],
          "name": "stderr"
        },
        {
          "output_type": "execute_result",
          "data": {
            "text/plain": [
              "<seaborn.axisgrid.FacetGrid at 0x7f7e421ceb00>"
            ]
          },
          "metadata": {
            "tags": []
          },
          "execution_count": 31
        },
        {
          "output_type": "display_data",
          "data": {
            "image/png": "[encoded data removed]",
            "text/plain": [
              "<Figure size 402.375x360 with 1 Axes>"
            ]
          },
          "metadata": {
            "tags": [],
            "needs_background": "light"
          }
        }
      ]
    }
  ]
}