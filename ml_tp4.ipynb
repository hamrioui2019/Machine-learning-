{
  "nbformat": 4,
  "nbformat_minor": 0,
  "metadata": {
    "colab": {
      "name": "ml_tp4.ipynb",
      "provenance": [],
      "collapsed_sections": [],
      "include_colab_link": true
    },
    "kernelspec": {
      "name": "python3",
      "display_name": "Python 3"
    }
  },
  "cells": [
    {
      "cell_type": "markdown",
      "metadata": {
        "id": "view-in-github",
        "colab_type": "text"
      },
      "source": [
        "<a href=\"https://colab.research.google.com/github/hamrioui2019/Machine-learning-/blob/master/ml_tp4.ipynb\" target=\"_parent\"><img src=\"https://colab.research.google.com/assets/colab-badge.svg\" alt=\"Open In Colab\"/></a>"
      ]
    },
    {
      "cell_type": "markdown",
      "metadata": {
        "id": "v2s9rAqc1ZhB"
      },
      "source": [
        "# TP classification naïve bayésienne"
      ]
    },
    {
      "cell_type": "markdown",
      "metadata": {
        "id": "C55yOmOi1hXY"
      },
      "source": [
        "## Application \n",
        "\n",
        "On reprend les données du TD sur les arbres de décisions, on va maintenant utiliser la classification naïve bayésienne sur ces données.\n",
        "\n",
        "| Day |Temperature | Humidity | Wind | Weather | Play  |\n",
        "|:---:|  :---:    |  :---:   |:---: | :---:   | :---: |\n",
        "|1 | Hot | High | Weak | Sunny |  no  |\n",
        "|2 | Hot |   High | Strong | Sunny |  no  |\n",
        "|3 |  Hot |  High |  Weak | Overcast  |   yes|\n",
        "|4 | Mild |  High |  Weak |  Rain |   yes|\n",
        "|5 |  Cool |  Normal |  Weak | Rain |   yes|\n",
        "|6  | Cool |   Normal |  Strong | Rain |  no |\n",
        "|7 | Cool |  Normal |  Strong | Overcast |  yes|\n",
        "|8  | Mild | High |  Weak | Sunny |  no |\n",
        "|9 |  Cool |  Normal |  Weak | Sunny |   yes|\n",
        "|10 | Mild |  Normal |  Weak | Rain |   yes|\n",
        "|11  | Mild |   Normal |Strong | Sunny |   yes|\n",
        "|12 | Mild |  High |  Strong | Overcast |   yes|\n",
        "|13  | Hot | Normal |  Weak | Overcast |  yes|\n",
        "|14  | Mild |  High |  Strong | Rain    |  no |\n",
        "\n",
        "Quel est la prédiction donnée par l'algorithme de classification naïve bayésienne pour classer une observation (rain, hot, high, weak)?\n"
      ]
    },
    {
      "cell_type": "markdown",
      "metadata": {
        "id": "KBP6YiaIeHTt"
      },
      "source": [
        "P(Play|W=Rain,T=hot,H=hot,V=Weak)\n",
        "On doit ainsi calculer les probabilités suivantes:\n",
        "\n",
        "Combien de ces observation se déroulent avec le fait qu'il pleuve :\n",
        "\n",
        "\n",
        "P(W=rain|Play=Yes)= 3/9 (car on a 9 yes en tout)\n",
        "\n",
        "P(W=rain|Play=No)=2/5 (car on a 5 no en tout)\n",
        "\n",
        "\n",
        "P(T=hot|Play=yes)= 2/9\n",
        "\n",
        "P(T=hot|Play=no)= 2/5\n",
        "\n",
        "P(H=high|Play=yes)= 3/9 = 1/3\n",
        "\n",
        "P(H=high|Play=No)= 4/5\n",
        "\n",
        "P(V=Weak|Play=yes)= 6/9 = 2/3\n",
        "\n",
        "P(V=Weak|Play=No)= 2/5\n",
        "\n",
        "P(Play=yes)= 9/14\n",
        "\n",
        "P(Play=No)= 5/14\n",
        "\n",
        "p(Play=yes|rain, hot,hight,weak)=3/9 * 2/9* 1/3 * 2/3 * 9/14 = 0.011\n",
        "\n",
        "p(Play=No|rain, hot,hight,weak)= 2/5 * 2/5* 4/5 * 2/5 * 5/14 = 0.018\n",
        "\n",
        "\n",
        "P(Play|T,H,W,V)= (P(T|P)*P(H|P)*P(W|P)*P(v|P)*P(P))/(P(T,H,W,V))\n",
        "\n"
      ]
    },
    {
      "cell_type": "code",
      "metadata": {
        "id": "U2Da-fPTjhj_",
        "outputId": "87a370b4-4f3f-4943-ed7d-d12e9acf51fb",
        "colab": {
          "base_uri": "https://localhost:8080/",
          "height": 68
        }
      },
      "source": [
        "c=3/9 * 2/9*1/3*2/3*9/14 \n",
        "print(c)\n",
        "d= 2/5 * 2/5* 4/5 * 2/5 * 5/14\n",
        "print(d)\n",
        "f=d/(c+d) #on normalise la probabilité pour avoir plus d'infos sur le résultat \n",
        "print(f) \n",
        "#P(play=no)>P(play=yes) => donc je ne joue pas "
      ],
      "execution_count": null,
      "outputs": [
        {
          "output_type": "stream",
          "text": [
            "0.010582010582010581\n",
            "0.018285714285714287\n",
            "0.6334310850439883\n"
          ],
          "name": "stdout"
        }
      ]
    },
    {
      "cell_type": "markdown",
      "metadata": {
        "id": "BXaP4_nG2RIO"
      },
      "source": [
        "Scikit-Learn\n"
      ]
    },
    {
      "cell_type": "markdown",
      "metadata": {
        "id": "rNY5NZ8fAfpf"
      },
      "source": [
        " GaussianNB est l'implémentation de l'algorithme de classification naïve \n",
        " bayésienne pour des attributs continus pour lesquels on fait l'hypothèse que leur distribution suit une loi gaussienne. On trouve dans scikit-learn d'autres implémentations qui font des hypothèses différentes sur la distribution. Si les attributs sont des catégories, scikit learn possède une fonction spéciale (voir la [documentation](https://scikit-learn.org/stable/modules/naive_bayes.html))\n",
        "\n",
        " Exécutez le code ci-dessous pour générer le graphique avec les frontières de décisions. Comparez avec les autres méthodes."
      ]
    },
    {
      "cell_type": "code",
      "metadata": {
        "id": "GXCusiX81XJM",
        "outputId": "c1f1996a-0d8f-4de8-ceb9-a63799566810",
        "colab": {
          "base_uri": "https://localhost:8080/",
          "height": 318
        }
      },
      "source": [
        "import numpy as np\n",
        "from sklearn.naive_bayes import GaussianNB\n",
        "\n",
        "from sklearn.datasets import load_iris\n",
        "Xcomplet, y = load_iris(return_X_y=True) \n",
        "print(\"Nom des classes: \", np.unique(y))\n",
        "print(\"Nombre d'observations dans chacune des classes:\", np.bincount(y))\n",
        "print(\"Il y a \", Xcomplet.size, \" observations avec \", Xcomplet[0].size, \" attributs\")\n",
        "X=Xcomplet[:,[2,3]]\n",
        "# on travaille ici avec les colonnes 2 et 3, on pourra changer cela.\n",
        "\n",
        "from matplotlib.colors import ListedColormap\n",
        "import matplotlib.pyplot as plt\n",
        "from sklearn.datasets import load_iris\n",
        "\n",
        "\n",
        "def plot_decision_regions(X, y, classifier, resolution=0.02):\n",
        "    # setup marker generator and color map\n",
        "    markers = ('d', 's', 'o', '^', 'v')\n",
        "    colors = ('red', 'blue', 'lightgreen', 'gray', 'cyan')\n",
        "    cmap = ListedColormap(colors[:len(np.unique(y))])\n",
        "    # plot the decision surface\n",
        "    x1_min, x1_max = X[:, 0].min() - 1, X[:, 0].max() + 1\n",
        "    x2_min, x2_max = X[:, 1].min() - 1, X[:, 1].max() + 1\n",
        "    xx1, xx2 = np.meshgrid(np.arange(x1_min, x1_max, resolution),\n",
        "                           np.arange(x2_min, x2_max, resolution))\n",
        "    Z = classifier.predict(np.array([xx1.ravel(), xx2.ravel()]).T)\n",
        "    Z = Z.reshape(xx1.shape)\n",
        "    plt.contourf(xx1, xx2, Z, alpha=0.3, cmap=cmap)\n",
        "    plt.xlim(xx1.min(), xx1.max())\n",
        "    plt.ylim(xx2.min(), xx2.max())\n",
        "    for idx, cl in enumerate(np.unique(y)):\n",
        "        plt.scatter(x=X[y == cl, 0], \n",
        "                    y=X[y == cl, 1],\n",
        "                    alpha=0.8, \n",
        "                    c=colors[idx],\n",
        "                    marker=markers[idx],\n",
        "                    label=cl, \n",
        "                    edgecolor='black')\n",
        "# GaussianNB est l'implémentation de l'algorithme de classification naïve \n",
        "# bayésienne pour des attributs continus pour lesquels on fait l'hypothèse que \n",
        "# leur distribution suit une loi gaussienne. On trouve dans scikit-learn \n",
        "# d'autres implémentations qui font des hypothèses différentes sur la \n",
        "# distribution. Si les attributs sont des catégories, scikit learn possède une\n",
        "# fonction spéciale (voir la [documentation](https://scikit-learn.org/stable/modules/naive_bayes.html)\n",
        " \n",
        "gnb = GaussianNB()\n",
        "gnb.fit(X,y)\n",
        "\n",
        "plot_decision_regions(X, y, gnb)\n",
        "plt.show()\n",
        "\n"
      ],
      "execution_count": null,
      "outputs": [
        {
          "output_type": "stream",
          "text": [
            "Nom des classes:  [0 1 2]\n",
            "Nombre d'observations dans chacune des classes: [50 50 50]\n",
            "Il y a  600  observations avec  4  attributs\n"
          ],
          "name": "stdout"
        },
        {
          "output_type": "display_data",
          "data": {
            "image/png": "[encoded data removed]",
            "text/plain": [
              "<Figure size 432x288 with 1 Axes>"
            ]
          },
          "metadata": {
            "tags": [],
            "needs_background": "light"
          }
        }
      ]
    },
    {
      "cell_type": "markdown",
      "metadata": {
        "id": "57JWt1qlFRjU"
      },
      "source": [
        "A priori, pour un algorithme comme les arbres de décision, on va avoir une transition brutale quand on passe d'une classe à une autre. Ici, on peut utiliser les probabilités donnés par le modèle pour mesurer notre méfiance. Par exemple, dans la région ou les points de deux classes semblent se mélanger, on pourrait s'attendre à ce que l'algorithme retourne un probabilité haute mais pas proche de 1.\n",
        "\n",
        "Considérons les points sur un segment de l'espace, par exemple, tous les points sur le segment entre (0,0) et (7,2). A l'aide de la fonction predict_proba, tracez la variation de la probabilité d'appartenir à une des trois classes sur ce segment."
      ]
    },
    {
      "cell_type": "code",
      "metadata": {
        "id": "0fZs5aa23_Kr",
        "outputId": "0d874872-247f-4997-89d6-1d8740a9f039",
        "colab": {
          "base_uri": "https://localhost:8080/",
          "height": 283
        }
      },
      "source": [
        "import numpy as np\n",
        "\n",
        "x = np.linspace(0,7)\n",
        "y = (2/7)*x\n",
        "\n",
        "\n",
        "m = np.vstack((x,y)).T\n",
        "p = gnb.predict_proba(m)\n",
        "\n",
        "plt.plot(x,p[:,0])\n",
        "plt.plot(x,p[:,1])\n",
        "plt.plot(x,p[:,2])"
      ],
      "execution_count": null,
      "outputs": [
        {
          "output_type": "execute_result",
          "data": {
            "text/plain": [
              "[<matplotlib.lines.Line2D at 0x7fdf18887ef0>]"
            ]
          },
          "metadata": {
            "tags": []
          },
          "execution_count": 5
        },
        {
          "output_type": "display_data",
          "data": {
            "image/png": "[encoded data removed]",
            "text/plain": [
              "<Figure size 432x288 with 1 Axes>"
            ]
          },
          "metadata": {
            "tags": [],
            "needs_background": "light"
          }
        }
      ]
    },
    {
      "cell_type": "code",
      "metadata": {
        "id": "p2UCoXy49_J0"
      },
      "source": [
        ""
      ],
      "execution_count": null,
      "outputs": []
    }
  ]
}